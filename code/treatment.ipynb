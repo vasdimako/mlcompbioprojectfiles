{
 "cells": [
  {
   "cell_type": "code",
   "execution_count": 19,
   "metadata": {},
   "outputs": [],
   "source": [
    "# This was used to check for missing files. Some of the files listed in samples.csv had broken download links.\n",
    "# Since the data was too big to include, this is omitted using the check variable and included for the sake of completeness.\n",
    "import os\n",
    "import pandas as pd\n",
    "\n",
    "def checkformissing():\n",
    "    filelist = []\n",
    "\n",
    "    for file in os.listdir(\"D:\\ML\\data\\FWM\"):\n",
    "        if file.endswith(\".bam\"):\n",
    "            filelist.append(file[0:3])\n",
    "\n",
    "    return filelist"
   ]
  },
  {
   "cell_type": "code",
   "execution_count": 9,
   "metadata": {
    "collapsed": true
   },
   "outputs": [],
   "source": [
    "import pandas as pd\n",
    "import numpy as np\n",
    "\n",
    "donor_df = pd.read_csv(\"donorinfo.csv\")\n",
    "\n",
    "donor_df['Treatment'] = np.nan\n",
    "donor_df['cerad'].replace(to_replace=[0,1], value=0, inplace=True)\n",
    "donor_df['cerad'].replace(to_replace=[2,3], value=1, inplace=True)\n",
    "donor_df['dsm_iv_clinical_diagnosis'].replace(to_replace=[\"Alzheimer's Disease Type\", 'Multiple Etiologies', 'Other Medical', 'Other or Unknown Cause', 'Vascular'], value=0, inplace=True)\n",
    "donor_df['dsm_iv_clinical_diagnosis'].replace(to_replace= 'No Dementia', value=1, inplace=True)\n",
    "donor_df['nincds_arda_diagnosis'].replace(to_replace=[\"Possible Alzheimer'S Disease\", \"Probable Alzheimer'S Disease\"], value=1, inplace=True)\n",
    "donor_df['nincds_arda_diagnosis'].replace(to_replace=[\"No Dementia\", \"Dementia, Type Unknown\"], value=0, inplace=True)\n",
    "donor_df['act_demented'].replace(to_replace=\"Dementia\", value=1, inplace=True)\n",
    "donor_df['act_demented'].replace(to_replace=\"No Dementia\", value=0, inplace=True)\n",
    "donor_df['braak'].replace(to_replace=[1,2,3,4,5,6], value=1, inplace=True)\n",
    "donor_df['dsm_iv_clinical_diagnosis'].sum()\n",
    "\n",
    "for i, row in donor_df.iterrows():\n",
    "    if row['dsm_iv_clinical_diagnosis'] == 1 and row['ever_tbi_w_loc'] == \"Y\":\n",
    "        donor_df.loc[i, 'Treatment'] = 3\n",
    "    elif row['dsm_iv_clinical_diagnosis'] == 1 and row['ever_tbi_w_loc'] == \"N\":\n",
    "        donor_df.loc[i, 'Treatment'] = 2\n",
    "    elif row['dsm_iv_clinical_diagnosis'] == 0 and row['ever_tbi_w_loc'] == \"Y\":\n",
    "        donor_df.loc[i, 'Treatment'] = 1\n",
    "    elif row['dsm_iv_clinical_diagnosis'] == 0 and row['ever_tbi_w_loc'] == \"N\":\n",
    "        donor_df.loc[i, 'Treatment'] = 0"
   ]
  },
  {
   "cell_type": "code",
   "execution_count": 16,
   "metadata": {
    "collapsed": false,
    "pycharm": {
     "name": "#%%\n"
    }
   },
   "outputs": [
    {
     "name": "stderr",
     "output_type": "stream",
     "text": [
      "C:\\Users\\Vasilis\\AppData\\Local\\Temp\\ipykernel_17608\\1207004099.py:10: SettingWithCopyWarning: \n",
      "A value is trying to be set on a copy of a slice from a DataFrame.\n",
      "Try using .loc[row_indexer,col_indexer] = value instead\n",
      "\n",
      "See the caveats in the documentation: https://pandas.pydata.org/pandas-docs/stable/user_guide/indexing.html#returning-a-view-versus-a-copy\n",
      "  data_treatments[\"UID\"] = data_treatments[\"name\"].apply(lambda x: x.split(\".\")[2])\n",
      "C:\\Users\\Vasilis\\AppData\\Local\\Temp\\ipykernel_17608\\1207004099.py:11: SettingWithCopyWarning: \n",
      "A value is trying to be set on a copy of a slice from a DataFrame\n",
      "\n",
      "See the caveats in the documentation: https://pandas.pydata.org/pandas-docs/stable/user_guide/indexing.html#returning-a-view-versus-a-copy\n",
      "  data_treatments.drop(\"name\", axis=1, inplace=True)\n"
     ]
    },
    {
     "data": {
      "text/plain": [
       "'(3,0,3,2,1,2,1,0,1,0,0,2,3,3,0,3,2,3,2,1,0,3,2,1,2,1,2,1,0,3,2,3,0,0,3,2,1,0,3,2,3,2,3,0,1,0,3,2,1,2,1,2,1,0,3,0,1,0,3,2,1,2,2,1,2,2,2,3,0,1,2,3,0,1,0,1,2,1,0,1,2,3,2,1,0,3,2,3,2,1,2,1,0)'"
      ]
     },
     "execution_count": 16,
     "metadata": {},
     "output_type": "execute_result"
    }
   ],
   "source": [
    "sample_df = pd.read_csv(\"tbi_data.csv\")\n",
    "region = \"HIP\" # values: [\"FWM\", \"HIP\", \"PCx\", \"TCx\"]\n",
    "group = \"FULL\" # values: [\"AD\", \"FULL\"]\n",
    "check = False # flag for whether to check for missing files. False assumes all files are available.\n",
    "\n",
    "if group == \"AD\":\n",
    "    data_df = donor_df[(donor_df[\"Treatment\"] == 3) | (donor_df[\"Treatment\"] == 2)]\n",
    "\n",
    "data_treatments = donor_df[['name', 'Treatment']]\n",
    "data_treatments[\"UID\"] = data_treatments[\"name\"].apply(lambda x: x.split(\".\")[2])\n",
    "data_treatments.drop(\"name\", axis=1, inplace=True)\n",
    "\n",
    "sample_df[\"UID\"] = sample_df[\"donor_name\"].apply(lambda x: x.split(\".\")[2])\n",
    "data_full = sample_df.merge(data_treatments, on=[\"UID\"], how=\"left\")\n",
    "data_full = data_full.loc[(data_full[\"structure_acronym\"] == region)]\n",
    "data_full.dropna(inplace=True)\n",
    "\n",
    "if checkformissing == True:\n",
    "    filelist = checkformissing()\n",
    "    data_full = data_full.loc[(data_full[\"structure_acronym\"] == region) & (data_full[\"UID\"].isin(filelist))]\n",
    "\n",
    "# generate .csv file for R scripts\n",
    "# data_full.to_csv(\"PCx_AD.csv\") \n",
    "\n",
    "# generate treatment list for R scripts\n",
    "string = \"(\"\n",
    "for i, row in data_full.iterrows():\n",
    "    if row['structure_acronym'] == region:\n",
    "        string+= str(int(row['Treatment']))\n",
    "        string+= \",\"\n",
    "string = string[:-1] + \")\"\n",
    "string"
   ]
  },
  {
   "cell_type": "code",
   "execution_count": 48,
   "metadata": {
    "collapsed": false,
    "pycharm": {
     "name": "#%%\n"
    }
   },
   "outputs": [],
   "source": [
    "# alternative AD classification\n",
    "\n",
    "for i, row in data_df.iterrows():\n",
    "    if row[['cerad', 'dsm_iv_clinical_diagnosis', 'nincds_arda_diagnosis', 'act_demented', 'braak']].sum() > 2:\n",
    "        data_df.loc[i, 'AD'] = 1\n",
    "    else:\n",
    "        data_df.loc[i, 'AD'] = 0"
   ]
  }
 ],
 "metadata": {
  "kernelspec": {
   "display_name": "Python 3.10.2 64-bit",
   "language": "python",
   "name": "python3"
  },
  "language_info": {
   "codemirror_mode": {
    "name": "ipython",
    "version": 3
   },
   "file_extension": ".py",
   "mimetype": "text/x-python",
   "name": "python",
   "nbconvert_exporter": "python",
   "pygments_lexer": "ipython3",
   "version": "3.10.2"
  },
  "vscode": {
   "interpreter": {
    "hash": "019eb51ff4e94b92d37f94cd985ebdce5df692498f09041f7c98eff0d24f084b"
   }
  }
 },
 "nbformat": 4,
 "nbformat_minor": 0
}

{
 "cells": [
  {
   "cell_type": "code",
   "execution_count": 2,
   "metadata": {},
   "outputs": [],
   "source": [
    "import pandas as pd\n",
    "import matplotlib.pyplot as plt"
   ]
  },
  {
   "cell_type": "code",
   "execution_count": 17,
   "metadata": {},
   "outputs": [],
   "source": [
    "def count_clusters(table):\n",
    "    \n",
    "    counts = table[\"cls.cluster\"].value_counts(sort=False, ascending=True)\n",
    "    maxval = table[\"cls.cluster\"].max()\n",
    "    count_dict = {}\n",
    "\n",
    "    for i in range(0, maxval):\n",
    "        count_dict[i] = 0\n",
    "\n",
    "    for i in counts.keys():\n",
    "        count_dict[i] = counts[i]\n",
    "    \n",
    "    # dict key 0 holds total value\n",
    "    count_dict[0] = counts.sum()\n",
    "    \n",
    "    return count_dict\n",
    "\n",
    "\n",
    "\n",
    "def compare_results(region, group):\n",
    "    edgeRdir = \"G:\\\\My Drive\\\\biostat\\\\02_mlcompbio\\\\project\\\\results_topTags\\\\\"\n",
    "    mbclusterdir = \"G:\\\\My Drive\\\\biostat\\\\02_mlcompbio\\\\project\\\\results_MBCDeg\\\\\"\n",
    "\n",
    "    edgeR = pd.read_csv(\"{0}tags{1}_{2}.csv\".format(edgeRdir, region, group))\n",
    "    mbcluster = pd.read_csv(\"{0}{1}_ordered_{2}.csv\".format(mbclusterdir, region, group))\n",
    "\n",
    "    edgeR = edgeR[edgeR[\"PValue\"] < 0.001]\n",
    "\n",
    "    joined = mbcluster.merge(edgeR, how=\"left\", right_on=\"Unnamed: 0\", left_on=\"mydata.GeneID\")\n",
    "    joined.dropna(inplace=True)\n",
    "    #joined.to_csv(\"{0}combined_{1}_{2}.csv\".format(region, group))\n",
    "\n",
    "    return count_clusters(joined), count_clusters(mbcluster)\n",
    "\n",
    "\n"
   ]
  },
  {
   "cell_type": "code",
   "execution_count": 3,
   "metadata": {},
   "outputs": [],
   "source": [
    "outputdir = \"G:\\\\My Drive\\\\biostat\\\\02_mlcompbio\\\\project\\\\results_output\\\\\"\n",
    "file = outputdir + \"\\\\clusters.txt\"\n",
    "\n",
    "regions = [\"FWM\", \"HIP\", \"PCx\", \"TCx\"] # values: [\"FWM\", \"HIP\", \"PCx\", \"TCx\"]\n",
    "groups = [\"AD\", \"FULL\"] # values: [\"AD\", \"FULL\"]\n",
    "\n",
    "with open(file, \"a\") as writer:\n",
    "    for region in regions:\n",
    "        for group in groups:\n",
    "            counts_all, counts_mbclust = compare_results(region, group)\n",
    "            writer.write(region + \", \" + group + \"\\n\")\n",
    "            print(counts_all, file=writer)\n",
    "            print(counts_mbclust, file=writer)\n",
    "            writer.write(\"\\n\")"
   ]
  },
  {
   "cell_type": "code",
   "execution_count": 21,
   "metadata": {},
   "outputs": [
    {
     "name": "stdout",
     "output_type": "stream",
     "text": [
      "(3931, 6)\n",
      "(3931, 11)\n",
      "(3931, 16)\n",
      "(3931, 21)\n"
     ]
    },
    {
     "name": "stderr",
     "output_type": "stream",
     "text": [
      "C:\\Users\\Vasilis\\AppData\\Local\\Temp\\ipykernel_15580\\1369454948.py:16: FutureWarning: Passing 'suffixes' which cause duplicate columns {'PValue_x', 'logCPM_x', 'FDR_x', 'logFC_x', 'F_x'} in the result is deprecated and will raise a MergeError in a future version.\n",
      "  edgeR = edgeR.merge(edgeRcomp, how=\"left\", right_on=\"Unnamed: 0\", left_on=\"Unnamed: 0\",)\n"
     ]
    },
    {
     "data": {
      "text/plain": [
       "67      LOC124902040\n",
       "270             RARG\n",
       "394          COL27A1\n",
       "408           ZRANB2\n",
       "496             EVC2\n",
       "631             HIC1\n",
       "834           MINDY3\n",
       "922      FPGT-TNNI3K\n",
       "1600          TNNI3K\n",
       "2045             SMO\n",
       "2912           MTSS2\n",
       "3125           ITGB5\n",
       "3464           TEAD2\n",
       "3482         SLC6A12\n",
       "Name: Unnamed: 0, dtype: object"
      ]
     },
     "execution_count": 21,
     "metadata": {},
     "output_type": "execute_result"
    }
   ],
   "source": [
    "def find_common():\n",
    "    regions = [\"FWM\", \"HIP\", \"PCx\", \"TCx\"] # values: [\"FWM\", \"HIP\", \"PCx\", \"TCx\"]\n",
    "    groups = [\"FULL\"] # values: [\"AD\", \"FULL\"]\n",
    "    count = False\n",
    "    edgeRdir = \"G:\\\\My Drive\\\\biostat\\\\02_mlcompbio\\\\project\\\\results_topTags\\\\\"\n",
    "    for region in regions:\n",
    "        for group in groups:\n",
    "            if count is False:\n",
    "                edgeR = pd.read_csv(\"{0}tags{1}_{2}.csv\".format(edgeRdir, region, group))\n",
    "                edgeR = edgeR[edgeR[\"PValue\"] < 0.001]\n",
    "                print(edgeR.shape)\n",
    "                count = True\n",
    "            else:\n",
    "                edgeRcomp = pd.read_csv(\"{0}tags{1}_{2}.csv\".format(edgeRdir, region, group))\n",
    "                edgeRcomp = edgeRcomp[edgeRcomp[\"PValue\"] < 0.001]\n",
    "                edgeR = edgeR.merge(edgeRcomp, how=\"left\", right_on=\"Unnamed: 0\", left_on=\"Unnamed: 0\",)\n",
    "                print(edgeR.shape)\n",
    "    return edgeR\n",
    "\n",
    "\n",
    "find_common().dropna()[\"Unnamed: 0\"]"
   ]
  },
  {
   "cell_type": "code",
   "execution_count": 52,
   "metadata": {
    "collapsed": true,
    "pycharm": {
     "name": "#%%\n"
    }
   },
   "outputs": [],
   "source": [
    "from bioinfokit import analys, visuz\n",
    "import os \n",
    "\n",
    "os.chdir(outputdir)\n",
    "\n",
    "mbcluster_heat = mbcluster.iloc[0:100,].sort_values(by=[\"cls.cluster\"])\n",
    "\n",
    "# load dataset as pandas dataframe\n",
    "if group == \"FULL\":\n",
    "    heat = mbcluster_heat[[\"X1.1\", \"X2.1\", \"X3.1\", \"X4.1\"]]\n",
    "elif group == \"AD\":\n",
    "    heat = mbcluster_heat[[\"X1.1\", \"X2.1\"]]\n",
    "heat = heat.set_index(mbcluster_heat[\"mydata.GeneID\"])\n",
    "\n",
    "visuz.gene_exp.hmap(df=heat, rowclus=False, colclus=False, dim=(6, 12), tickfont=(0, 0))"
   ]
  }
 ],
 "metadata": {
  "kernelspec": {
   "display_name": "Python 3.10.2 64-bit",
   "language": "python",
   "name": "python3"
  },
  "language_info": {
   "codemirror_mode": {
    "name": "ipython",
    "version": 3
   },
   "file_extension": ".py",
   "mimetype": "text/x-python",
   "name": "python",
   "nbconvert_exporter": "python",
   "pygments_lexer": "ipython3",
   "version": "3.10.2"
  },
  "vscode": {
   "interpreter": {
    "hash": "019eb51ff4e94b92d37f94cd985ebdce5df692498f09041f7c98eff0d24f084b"
   }
  }
 },
 "nbformat": 4,
 "nbformat_minor": 0
}
